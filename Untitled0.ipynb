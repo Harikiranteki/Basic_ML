{
  "nbformat": 4,
  "nbformat_minor": 0,
  "metadata": {
    "colab": {
      "name": "Untitled0.ipynb",
      "provenance": [],
      "authorship_tag": "ABX9TyM7wF0Wv+sI7G6nnlmG7aTa",
      "include_colab_link": true
    },
    "kernelspec": {
      "name": "python3",
      "display_name": "Python 3"
    },
    "language_info": {
      "name": "python"
    }
  },
  "cells": [
    {
      "cell_type": "markdown",
      "metadata": {
        "id": "view-in-github",
        "colab_type": "text"
      },
      "source": [
        "<a href=\"https://colab.research.google.com/github/Harikiranteki/Basic_ML/blob/main/Untitled0.ipynb\" target=\"_parent\"><img src=\"https://colab.research.google.com/assets/colab-badge.svg\" alt=\"Open In Colab\"/></a>"
      ]
    },
    {
      "cell_type": "code",
      "metadata": {
        "id": "TEB2BpfA0R7O"
      },
      "source": [
        ""
      ],
      "execution_count": null,
      "outputs": []
    },
    {
      "cell_type": "markdown",
      "metadata": {
        "id": "UaFy43jb0Tha"
      },
      "source": [
        "# python programs\n"
      ]
    },
    {
      "cell_type": "markdown",
      "metadata": {
        "id": "XLEYBvRR0iuG"
      },
      "source": [
        "1.) Python Program to Display Fibonacci Sequence Using Recursion\n"
      ]
    },
    {
      "cell_type": "code",
      "metadata": {
        "id": "Jm4Hiwnj0tMo"
      },
      "source": [
        "def recur_fibo(n):\n",
        "   if n <= 1:\n",
        "       return n\n",
        "   else:\n",
        "       return(recur_fibo(n-1) + recur_fibo(n-2))\n",
        "\n",
        "nterms = 10\n",
        "\n",
        "# check if the number of terms is valid\n",
        "if nterms <= 0:\n",
        "   print(\"Plese enter a positive integer\")\n",
        "else:\n",
        "   print(\"Fibonacci sequence:\")\n",
        "   for i in range(nterms):\n",
        "       print(recur_fibo(i))\n"
      ],
      "execution_count": null,
      "outputs": []
    },
    {
      "cell_type": "markdown",
      "metadata": {
        "id": "TVJuLMzi03Z_"
      },
      "source": [
        "2.Python Program to Sort Words in Alphabetic Order\n"
      ]
    },
    {
      "cell_type": "code",
      "metadata": {
        "id": "tmZlHMvu0_Zg"
      },
      "source": [
        "my_str = \"Hello this Is an Example With cased letters\"\n",
        "words = [word.lower() for word in my_str.split()]\n",
        "\n",
        "# sort the list\n",
        "words.sort()\n",
        "\n",
        "# display the sorted words\n",
        "\n",
        "print(\"The sorted words are:\")\n",
        "for word in words:\n",
        "   print(word)\n"
      ],
      "execution_count": null,
      "outputs": []
    },
    {
      "cell_type": "markdown",
      "metadata": {
        "id": "lkViY_yK1BHv"
      },
      "source": [
        "3.Python Program to Reverse a Number\n"
      ]
    },
    {
      "cell_type": "code",
      "metadata": {
        "id": "oZ9XUSu91GZs"
      },
      "source": [
        "In [ ]:\n",
        "num = int(input())\n",
        "reversed_num = 0\n",
        "\n",
        "while num != 0:\n",
        "    digit = num % 10\n",
        "    reversed_num = reversed_num * 10 + digit\n",
        "    num //= 10\n",
        "\n",
        "print(\"Reversed Number: \" + str(reversed_num))"
      ],
      "execution_count": null,
      "outputs": []
    }
  ]
}